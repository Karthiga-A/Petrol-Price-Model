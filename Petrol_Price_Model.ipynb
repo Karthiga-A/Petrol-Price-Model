{
  "nbformat": 4,
  "nbformat_minor": 0,
  "metadata": {
    "colab": {
      "name": "Petrol Price Model.ipynb",
      "provenance": [],
      "authorship_tag": "ABX9TyNe3fG/4IdKfoujCFD+Sq2/",
      "include_colab_link": true
    },
    "kernelspec": {
      "name": "python3",
      "display_name": "Python 3"
    }
  },
  "cells": [
    {
      "cell_type": "markdown",
      "metadata": {
        "id": "view-in-github",
        "colab_type": "text"
      },
      "source": [
        "<a href=\"https://colab.research.google.com/github/Karthiga-A/Petrol-Price-Model/blob/main/Petrol_Price_Model.ipynb\" target=\"_parent\"><img src=\"https://colab.research.google.com/assets/colab-badge.svg\" alt=\"Open In Colab\"/></a>"
      ]
    },
    {
      "cell_type": "code",
      "metadata": {
        "colab": {
          "base_uri": "https://localhost:8080/"
        },
        "id": "N8imWdiwf7vr",
        "outputId": "06b3e7c9-ec4f-47ae-de74-d2298ae72963"
      },
      "source": [
        "from google.colab import drive\r\n",
        "drive.mount('/content/drive') "
      ],
      "execution_count": 1,
      "outputs": [
        {
          "output_type": "stream",
          "text": [
            "Mounted at /content/drive\n"
          ],
          "name": "stdout"
        }
      ]
    },
    {
      "cell_type": "code",
      "metadata": {
        "colab": {
          "base_uri": "https://localhost:8080/"
        },
        "id": "g8HcBsh8gJXt",
        "outputId": "edb77304-feeb-4307-eeed-436193ae02c7"
      },
      "source": [
        "import pandas as pd\r\n",
        "\r\n",
        "path =\"/content/drive/MyDrive/Colab Notebooks/petrol.csv\"\r\n",
        "df = pd.read_csv(path)\r\n",
        "\r\n",
        "df.describe\r\n"
      ],
      "execution_count": 2,
      "outputs": [
        {
          "output_type": "execute_result",
          "data": {
            "text/plain": [
              "<bound method NDFrame.describe of          Date      x      y\n",
              "0    4-Feb-21  56.23  56.85\n",
              "1    5-Feb-21  56.85  57.97\n",
              "2    8-Feb-21  57.97  58.36\n",
              "3    9-Feb-21  58.36  58.68\n",
              "4   10-Feb-21  58.68  58.24\n",
              "5   11-Feb-21  58.24  59.47\n",
              "6   12-Feb-21  59.47  60.37\n",
              "7   14-Feb-21  60.37  60.09\n",
              "8   15-Feb-21  60.09  60.05\n",
              "9   16-Feb-21  60.05  61.14\n",
              "10  17-Feb-21  61.14  60.52\n",
              "11  18-Feb-21  60.52  59.24\n",
              "12  19-Feb-21  59.24  61.49\n",
              "13  22-Feb-21  61.49  61.67\n",
              "14  23-Feb-21  61.67  63.22\n",
              "15  24-Feb-21  63.22  63.53\n",
              "16  25-Feb-21  63.53  61.50\n",
              "17  26-Feb-21  61.50  60.64\n",
              "18   1-Mar-21  60.64  59.75\n",
              "19   2-Mar-21  59.75  61.28\n",
              "20   3-Mar-21  61.28  63.83\n",
              "21   4-Mar-21  63.83  66.09\n",
              "22   5-Mar-21  66.09  65.05>"
            ]
          },
          "metadata": {
            "tags": []
          },
          "execution_count": 2
        }
      ]
    },
    {
      "cell_type": "code",
      "metadata": {
        "colab": {
          "base_uri": "https://localhost:8080/",
          "height": 762
        },
        "id": "rREA2a5sgL3B",
        "outputId": "14d28347-b3f9-4e92-9a5c-56a05795dfd4"
      },
      "source": [
        "df"
      ],
      "execution_count": 3,
      "outputs": [
        {
          "output_type": "execute_result",
          "data": {
            "text/html": [
              "<div>\n",
              "<style scoped>\n",
              "    .dataframe tbody tr th:only-of-type {\n",
              "        vertical-align: middle;\n",
              "    }\n",
              "\n",
              "    .dataframe tbody tr th {\n",
              "        vertical-align: top;\n",
              "    }\n",
              "\n",
              "    .dataframe thead th {\n",
              "        text-align: right;\n",
              "    }\n",
              "</style>\n",
              "<table border=\"1\" class=\"dataframe\">\n",
              "  <thead>\n",
              "    <tr style=\"text-align: right;\">\n",
              "      <th></th>\n",
              "      <th>Date</th>\n",
              "      <th>x</th>\n",
              "      <th>y</th>\n",
              "    </tr>\n",
              "  </thead>\n",
              "  <tbody>\n",
              "    <tr>\n",
              "      <th>0</th>\n",
              "      <td>4-Feb-21</td>\n",
              "      <td>56.23</td>\n",
              "      <td>56.85</td>\n",
              "    </tr>\n",
              "    <tr>\n",
              "      <th>1</th>\n",
              "      <td>5-Feb-21</td>\n",
              "      <td>56.85</td>\n",
              "      <td>57.97</td>\n",
              "    </tr>\n",
              "    <tr>\n",
              "      <th>2</th>\n",
              "      <td>8-Feb-21</td>\n",
              "      <td>57.97</td>\n",
              "      <td>58.36</td>\n",
              "    </tr>\n",
              "    <tr>\n",
              "      <th>3</th>\n",
              "      <td>9-Feb-21</td>\n",
              "      <td>58.36</td>\n",
              "      <td>58.68</td>\n",
              "    </tr>\n",
              "    <tr>\n",
              "      <th>4</th>\n",
              "      <td>10-Feb-21</td>\n",
              "      <td>58.68</td>\n",
              "      <td>58.24</td>\n",
              "    </tr>\n",
              "    <tr>\n",
              "      <th>5</th>\n",
              "      <td>11-Feb-21</td>\n",
              "      <td>58.24</td>\n",
              "      <td>59.47</td>\n",
              "    </tr>\n",
              "    <tr>\n",
              "      <th>6</th>\n",
              "      <td>12-Feb-21</td>\n",
              "      <td>59.47</td>\n",
              "      <td>60.37</td>\n",
              "    </tr>\n",
              "    <tr>\n",
              "      <th>7</th>\n",
              "      <td>14-Feb-21</td>\n",
              "      <td>60.37</td>\n",
              "      <td>60.09</td>\n",
              "    </tr>\n",
              "    <tr>\n",
              "      <th>8</th>\n",
              "      <td>15-Feb-21</td>\n",
              "      <td>60.09</td>\n",
              "      <td>60.05</td>\n",
              "    </tr>\n",
              "    <tr>\n",
              "      <th>9</th>\n",
              "      <td>16-Feb-21</td>\n",
              "      <td>60.05</td>\n",
              "      <td>61.14</td>\n",
              "    </tr>\n",
              "    <tr>\n",
              "      <th>10</th>\n",
              "      <td>17-Feb-21</td>\n",
              "      <td>61.14</td>\n",
              "      <td>60.52</td>\n",
              "    </tr>\n",
              "    <tr>\n",
              "      <th>11</th>\n",
              "      <td>18-Feb-21</td>\n",
              "      <td>60.52</td>\n",
              "      <td>59.24</td>\n",
              "    </tr>\n",
              "    <tr>\n",
              "      <th>12</th>\n",
              "      <td>19-Feb-21</td>\n",
              "      <td>59.24</td>\n",
              "      <td>61.49</td>\n",
              "    </tr>\n",
              "    <tr>\n",
              "      <th>13</th>\n",
              "      <td>22-Feb-21</td>\n",
              "      <td>61.49</td>\n",
              "      <td>61.67</td>\n",
              "    </tr>\n",
              "    <tr>\n",
              "      <th>14</th>\n",
              "      <td>23-Feb-21</td>\n",
              "      <td>61.67</td>\n",
              "      <td>63.22</td>\n",
              "    </tr>\n",
              "    <tr>\n",
              "      <th>15</th>\n",
              "      <td>24-Feb-21</td>\n",
              "      <td>63.22</td>\n",
              "      <td>63.53</td>\n",
              "    </tr>\n",
              "    <tr>\n",
              "      <th>16</th>\n",
              "      <td>25-Feb-21</td>\n",
              "      <td>63.53</td>\n",
              "      <td>61.50</td>\n",
              "    </tr>\n",
              "    <tr>\n",
              "      <th>17</th>\n",
              "      <td>26-Feb-21</td>\n",
              "      <td>61.50</td>\n",
              "      <td>60.64</td>\n",
              "    </tr>\n",
              "    <tr>\n",
              "      <th>18</th>\n",
              "      <td>1-Mar-21</td>\n",
              "      <td>60.64</td>\n",
              "      <td>59.75</td>\n",
              "    </tr>\n",
              "    <tr>\n",
              "      <th>19</th>\n",
              "      <td>2-Mar-21</td>\n",
              "      <td>59.75</td>\n",
              "      <td>61.28</td>\n",
              "    </tr>\n",
              "    <tr>\n",
              "      <th>20</th>\n",
              "      <td>3-Mar-21</td>\n",
              "      <td>61.28</td>\n",
              "      <td>63.83</td>\n",
              "    </tr>\n",
              "    <tr>\n",
              "      <th>21</th>\n",
              "      <td>4-Mar-21</td>\n",
              "      <td>63.83</td>\n",
              "      <td>66.09</td>\n",
              "    </tr>\n",
              "    <tr>\n",
              "      <th>22</th>\n",
              "      <td>5-Mar-21</td>\n",
              "      <td>66.09</td>\n",
              "      <td>65.05</td>\n",
              "    </tr>\n",
              "  </tbody>\n",
              "</table>\n",
              "</div>"
            ],
            "text/plain": [
              "         Date      x      y\n",
              "0    4-Feb-21  56.23  56.85\n",
              "1    5-Feb-21  56.85  57.97\n",
              "2    8-Feb-21  57.97  58.36\n",
              "3    9-Feb-21  58.36  58.68\n",
              "4   10-Feb-21  58.68  58.24\n",
              "5   11-Feb-21  58.24  59.47\n",
              "6   12-Feb-21  59.47  60.37\n",
              "7   14-Feb-21  60.37  60.09\n",
              "8   15-Feb-21  60.09  60.05\n",
              "9   16-Feb-21  60.05  61.14\n",
              "10  17-Feb-21  61.14  60.52\n",
              "11  18-Feb-21  60.52  59.24\n",
              "12  19-Feb-21  59.24  61.49\n",
              "13  22-Feb-21  61.49  61.67\n",
              "14  23-Feb-21  61.67  63.22\n",
              "15  24-Feb-21  63.22  63.53\n",
              "16  25-Feb-21  63.53  61.50\n",
              "17  26-Feb-21  61.50  60.64\n",
              "18   1-Mar-21  60.64  59.75\n",
              "19   2-Mar-21  59.75  61.28\n",
              "20   3-Mar-21  61.28  63.83\n",
              "21   4-Mar-21  63.83  66.09\n",
              "22   5-Mar-21  66.09  65.05"
            ]
          },
          "metadata": {
            "tags": []
          },
          "execution_count": 3
        }
      ]
    },
    {
      "cell_type": "code",
      "metadata": {
        "id": "vQWUV3SigSK9"
      },
      "source": [
        "x_mean = df['x'].mean()\r\n",
        "y_mean = df['y'].mean()"
      ],
      "execution_count": 4,
      "outputs": []
    },
    {
      "cell_type": "code",
      "metadata": {
        "colab": {
          "base_uri": "https://localhost:8080/"
        },
        "id": "HEvSE9C9gTZe",
        "outputId": "670473c2-260f-4ea7-9abd-65f48dee30cd"
      },
      "source": [
        "df['x - x_mean'] = df['x'] - x_mean\r\n",
        "print(df)"
      ],
      "execution_count": 5,
      "outputs": [
        {
          "output_type": "stream",
          "text": [
            "         Date      x      y  x - x_mean\n",
            "0    4-Feb-21  56.23  56.85   -4.213913\n",
            "1    5-Feb-21  56.85  57.97   -3.593913\n",
            "2    8-Feb-21  57.97  58.36   -2.473913\n",
            "3    9-Feb-21  58.36  58.68   -2.083913\n",
            "4   10-Feb-21  58.68  58.24   -1.763913\n",
            "5   11-Feb-21  58.24  59.47   -2.203913\n",
            "6   12-Feb-21  59.47  60.37   -0.973913\n",
            "7   14-Feb-21  60.37  60.09   -0.073913\n",
            "8   15-Feb-21  60.09  60.05   -0.353913\n",
            "9   16-Feb-21  60.05  61.14   -0.393913\n",
            "10  17-Feb-21  61.14  60.52    0.696087\n",
            "11  18-Feb-21  60.52  59.24    0.076087\n",
            "12  19-Feb-21  59.24  61.49   -1.203913\n",
            "13  22-Feb-21  61.49  61.67    1.046087\n",
            "14  23-Feb-21  61.67  63.22    1.226087\n",
            "15  24-Feb-21  63.22  63.53    2.776087\n",
            "16  25-Feb-21  63.53  61.50    3.086087\n",
            "17  26-Feb-21  61.50  60.64    1.056087\n",
            "18   1-Mar-21  60.64  59.75    0.196087\n",
            "19   2-Mar-21  59.75  61.28   -0.693913\n",
            "20   3-Mar-21  61.28  63.83    0.836087\n",
            "21   4-Mar-21  63.83  66.09    3.386087\n",
            "22   5-Mar-21  66.09  65.05    5.646087\n"
          ],
          "name": "stdout"
        }
      ]
    },
    {
      "cell_type": "code",
      "metadata": {
        "colab": {
          "base_uri": "https://localhost:8080/"
        },
        "id": "mVqL9s8dgZe5",
        "outputId": "63d00db4-5d9f-445d-84e7-9f21cbd2038e"
      },
      "source": [
        "df['y - y_mean'] = df['y'] - y_mean\r\n",
        "print(df)"
      ],
      "execution_count": 6,
      "outputs": [
        {
          "output_type": "stream",
          "text": [
            "         Date      x      y  x - x_mean  y - y_mean\n",
            "0    4-Feb-21  56.23  56.85   -4.213913   -3.977391\n",
            "1    5-Feb-21  56.85  57.97   -3.593913   -2.857391\n",
            "2    8-Feb-21  57.97  58.36   -2.473913   -2.467391\n",
            "3    9-Feb-21  58.36  58.68   -2.083913   -2.147391\n",
            "4   10-Feb-21  58.68  58.24   -1.763913   -2.587391\n",
            "5   11-Feb-21  58.24  59.47   -2.203913   -1.357391\n",
            "6   12-Feb-21  59.47  60.37   -0.973913   -0.457391\n",
            "7   14-Feb-21  60.37  60.09   -0.073913   -0.737391\n",
            "8   15-Feb-21  60.09  60.05   -0.353913   -0.777391\n",
            "9   16-Feb-21  60.05  61.14   -0.393913    0.312609\n",
            "10  17-Feb-21  61.14  60.52    0.696087   -0.307391\n",
            "11  18-Feb-21  60.52  59.24    0.076087   -1.587391\n",
            "12  19-Feb-21  59.24  61.49   -1.203913    0.662609\n",
            "13  22-Feb-21  61.49  61.67    1.046087    0.842609\n",
            "14  23-Feb-21  61.67  63.22    1.226087    2.392609\n",
            "15  24-Feb-21  63.22  63.53    2.776087    2.702609\n",
            "16  25-Feb-21  63.53  61.50    3.086087    0.672609\n",
            "17  26-Feb-21  61.50  60.64    1.056087   -0.187391\n",
            "18   1-Mar-21  60.64  59.75    0.196087   -1.077391\n",
            "19   2-Mar-21  59.75  61.28   -0.693913    0.452609\n",
            "20   3-Mar-21  61.28  63.83    0.836087    3.002609\n",
            "21   4-Mar-21  63.83  66.09    3.386087    5.262609\n",
            "22   5-Mar-21  66.09  65.05    5.646087    4.222609\n"
          ],
          "name": "stdout"
        }
      ]
    },
    {
      "cell_type": "code",
      "metadata": {
        "colab": {
          "base_uri": "https://localhost:8080/"
        },
        "id": "IVslA6Fagbio",
        "outputId": "8370496f-873b-46c7-ad4d-d312ad30dd1b"
      },
      "source": [
        "df['(x - x_mean)^2'] = df['x - x_mean']*df['x - x_mean']\r\n",
        "print(df)"
      ],
      "execution_count": 7,
      "outputs": [
        {
          "output_type": "stream",
          "text": [
            "         Date      x      y  x - x_mean  y - y_mean  (x - x_mean)^2\n",
            "0    4-Feb-21  56.23  56.85   -4.213913   -3.977391       17.757063\n",
            "1    5-Feb-21  56.85  57.97   -3.593913   -2.857391       12.916211\n",
            "2    8-Feb-21  57.97  58.36   -2.473913   -2.467391        6.120246\n",
            "3    9-Feb-21  58.36  58.68   -2.083913   -2.147391        4.342694\n",
            "4   10-Feb-21  58.68  58.24   -1.763913   -2.587391        3.111389\n",
            "5   11-Feb-21  58.24  59.47   -2.203913   -1.357391        4.857233\n",
            "6   12-Feb-21  59.47  60.37   -0.973913   -0.457391        0.948507\n",
            "7   14-Feb-21  60.37  60.09   -0.073913   -0.737391        0.005463\n",
            "8   15-Feb-21  60.09  60.05   -0.353913   -0.777391        0.125254\n",
            "9   16-Feb-21  60.05  61.14   -0.393913    0.312609        0.155167\n",
            "10  17-Feb-21  61.14  60.52    0.696087   -0.307391        0.484537\n",
            "11  18-Feb-21  60.52  59.24    0.076087   -1.587391        0.005789\n",
            "12  19-Feb-21  59.24  61.49   -1.203913    0.662609        1.449407\n",
            "13  22-Feb-21  61.49  61.67    1.046087    0.842609        1.094298\n",
            "14  23-Feb-21  61.67  63.22    1.226087    2.392609        1.503289\n",
            "15  24-Feb-21  63.22  63.53    2.776087    2.702609        7.706659\n",
            "16  25-Feb-21  63.53  61.50    3.086087    0.672609        9.523933\n",
            "17  26-Feb-21  61.50  60.64    1.056087   -0.187391        1.115320\n",
            "18   1-Mar-21  60.64  59.75    0.196087   -1.077391        0.038450\n",
            "19   2-Mar-21  59.75  61.28   -0.693913    0.452609        0.481515\n",
            "20   3-Mar-21  61.28  63.83    0.836087    3.002609        0.699041\n",
            "21   4-Mar-21  63.83  66.09    3.386087    5.262609       11.465585\n",
            "22   5-Mar-21  66.09  65.05    5.646087    4.222609       31.878298\n"
          ],
          "name": "stdout"
        }
      ]
    },
    {
      "cell_type": "code",
      "metadata": {
        "colab": {
          "base_uri": "https://localhost:8080/"
        },
        "id": "q1DZL1Uwgi2h",
        "outputId": "62cbe408-d7ba-4335-8513-e5e5631f90e7"
      },
      "source": [
        "df['(x - x_mean) * (y - y_mean)']=df['x - x_mean']*df['y - y_mean']\r\n",
        "print(df)"
      ],
      "execution_count": 8,
      "outputs": [
        {
          "output_type": "stream",
          "text": [
            "         Date      x  ...  (x - x_mean)^2  (x - x_mean) * (y - y_mean)\n",
            "0    4-Feb-21  56.23  ...       17.757063                    16.760381\n",
            "1    5-Feb-21  56.85  ...       12.916211                    10.269216\n",
            "2    8-Feb-21  57.97  ...        6.120246                     6.104112\n",
            "3    9-Feb-21  58.36  ...        4.342694                     4.474977\n",
            "4   10-Feb-21  58.68  ...        3.111389                     4.563933\n",
            "5   11-Feb-21  58.24  ...        4.857233                     2.991572\n",
            "6   12-Feb-21  59.47  ...        0.948507                     0.445459\n",
            "7   14-Feb-21  60.37  ...        0.005463                     0.054503\n",
            "8   15-Feb-21  60.09  ...        0.125254                     0.275129\n",
            "9   16-Feb-21  60.05  ...        0.155167                    -0.123141\n",
            "10  17-Feb-21  61.14  ...        0.484537                    -0.213971\n",
            "11  18-Feb-21  60.52  ...        0.005789                    -0.120780\n",
            "12  19-Feb-21  59.24  ...        1.449407                    -0.797723\n",
            "13  22-Feb-21  61.49  ...        1.094298                     0.881442\n",
            "14  23-Feb-21  61.67  ...        1.503289                     2.933546\n",
            "15  24-Feb-21  63.22  ...        7.706659                     7.502677\n",
            "16  25-Feb-21  63.53  ...        9.523933                     2.075729\n",
            "17  26-Feb-21  61.50  ...        1.115320                    -0.197902\n",
            "18   1-Mar-21  60.64  ...        0.038450                    -0.211262\n",
            "19   2-Mar-21  59.75  ...        0.481515                    -0.314071\n",
            "20   3-Mar-21  61.28  ...        0.699041                     2.510442\n",
            "21   4-Mar-21  63.83  ...       11.465585                    17.819651\n",
            "22   5-Mar-21  66.09  ...       31.878298                    23.841216\n",
            "\n",
            "[23 rows x 7 columns]\n"
          ],
          "name": "stdout"
        }
      ]
    },
    {
      "cell_type": "code",
      "metadata": {
        "colab": {
          "base_uri": "https://localhost:8080/"
        },
        "id": "la9yzk3Hgl3V",
        "outputId": "f22c3151-d795-438b-9c8f-b83aeb5f4f0f"
      },
      "source": [
        "slope= df['(x - x_mean) * (y - y_mean)'].sum()/df['(x - x_mean)^2'].sum()\r\n",
        "intercept=y_mean - slope*x_mean\r\n",
        "print(\"Linear Regression Model Equation: y = \",slope,\"x + \",intercept)"
      ],
      "execution_count": 9,
      "outputs": [
        {
          "output_type": "stream",
          "text": [
            "Linear Regression Model Equation: y =  0.861950460362125 x +  8.72773263043348\n"
          ],
          "name": "stdout"
        }
      ]
    },
    {
      "cell_type": "code",
      "metadata": {
        "colab": {
          "base_uri": "https://localhost:8080/"
        },
        "id": "rnCoFQh2gu0h",
        "outputId": "d41d997d-17c6-498f-ae48-afd07c7b7300"
      },
      "source": [
        "df['Estimated_y']=(slope*df['x']) + intercept\r\n",
        "print(df)"
      ],
      "execution_count": 10,
      "outputs": [
        {
          "output_type": "stream",
          "text": [
            "         Date      x  ...  (x - x_mean) * (y - y_mean)  Estimated_y\n",
            "0    4-Feb-21  56.23  ...                    16.760381    57.195207\n",
            "1    5-Feb-21  56.85  ...                    10.269216    57.729616\n",
            "2    8-Feb-21  57.97  ...                     6.104112    58.695001\n",
            "3    9-Feb-21  58.36  ...                     4.474977    59.031161\n",
            "4   10-Feb-21  58.68  ...                     4.563933    59.306986\n",
            "5   11-Feb-21  58.24  ...                     2.991572    58.927727\n",
            "6   12-Feb-21  59.47  ...                     0.445459    59.987927\n",
            "7   14-Feb-21  60.37  ...                     0.054503    60.763682\n",
            "8   15-Feb-21  60.09  ...                     0.275129    60.522336\n",
            "9   16-Feb-21  60.05  ...                    -0.123141    60.487858\n",
            "10  17-Feb-21  61.14  ...                    -0.213971    61.427384\n",
            "11  18-Feb-21  60.52  ...                    -0.120780    60.892974\n",
            "12  19-Feb-21  59.24  ...                    -0.797723    59.789678\n",
            "13  22-Feb-21  61.49  ...                     0.881442    61.729066\n",
            "14  23-Feb-21  61.67  ...                     2.933546    61.884218\n",
            "15  24-Feb-21  63.22  ...                     7.502677    63.220241\n",
            "16  25-Feb-21  63.53  ...                     2.075729    63.487445\n",
            "17  26-Feb-21  61.50  ...                    -0.197902    61.737686\n",
            "18   1-Mar-21  60.64  ...                    -0.211262    60.996409\n",
            "19   2-Mar-21  59.75  ...                    -0.314071    60.229273\n",
            "20   3-Mar-21  61.28  ...                     2.510442    61.548057\n",
            "21   4-Mar-21  63.83  ...                    17.819651    63.746031\n",
            "22   5-Mar-21  66.09  ...                    23.841216    65.694039\n",
            "\n",
            "[23 rows x 8 columns]\n"
          ],
          "name": "stdout"
        }
      ]
    },
    {
      "cell_type": "code",
      "metadata": {
        "colab": {
          "base_uri": "https://localhost:8080/"
        },
        "id": "4-_26tgggxQE",
        "outputId": "622f4c02-f7cd-4e73-ab0a-0bea22cd7ad5"
      },
      "source": [
        "df['y - Estimated_y'] = df['y'] - df['Estimated_y']\r\n",
        "print(df)"
      ],
      "execution_count": 11,
      "outputs": [
        {
          "output_type": "stream",
          "text": [
            "         Date      x  ...  Estimated_y  y - Estimated_y\n",
            "0    4-Feb-21  56.23  ...    57.195207        -0.345207\n",
            "1    5-Feb-21  56.85  ...    57.729616         0.240384\n",
            "2    8-Feb-21  57.97  ...    58.695001        -0.335001\n",
            "3    9-Feb-21  58.36  ...    59.031161        -0.351161\n",
            "4   10-Feb-21  58.68  ...    59.306986        -1.066986\n",
            "5   11-Feb-21  58.24  ...    58.927727         0.542273\n",
            "6   12-Feb-21  59.47  ...    59.987927         0.382073\n",
            "7   14-Feb-21  60.37  ...    60.763682        -0.673682\n",
            "8   15-Feb-21  60.09  ...    60.522336        -0.472336\n",
            "9   16-Feb-21  60.05  ...    60.487858         0.652142\n",
            "10  17-Feb-21  61.14  ...    61.427384        -0.907384\n",
            "11  18-Feb-21  60.52  ...    60.892974        -1.652974\n",
            "12  19-Feb-21  59.24  ...    59.789678         1.700322\n",
            "13  22-Feb-21  61.49  ...    61.729066        -0.059066\n",
            "14  23-Feb-21  61.67  ...    61.884218         1.335782\n",
            "15  24-Feb-21  63.22  ...    63.220241         0.309759\n",
            "16  25-Feb-21  63.53  ...    63.487445        -1.987445\n",
            "17  26-Feb-21  61.50  ...    61.737686        -1.097686\n",
            "18   1-Mar-21  60.64  ...    60.996409        -1.246409\n",
            "19   2-Mar-21  59.75  ...    60.229273         1.050727\n",
            "20   3-Mar-21  61.28  ...    61.548057         2.281943\n",
            "21   4-Mar-21  63.83  ...    63.746031         2.343969\n",
            "22   5-Mar-21  66.09  ...    65.694039        -0.644039\n",
            "\n",
            "[23 rows x 9 columns]\n"
          ],
          "name": "stdout"
        }
      ]
    },
    {
      "cell_type": "code",
      "metadata": {
        "colab": {
          "base_uri": "https://localhost:8080/"
        },
        "id": "KaflLUjSg_Lf",
        "outputId": "1a578bd7-55ba-43f1-8483-e33880b9bfb8"
      },
      "source": [
        "\r\n",
        "df['(y - Estimated_y)^2'] = df['y - Estimated_y']*df['y - Estimated_y']\r\n",
        "print(df)"
      ],
      "execution_count": 12,
      "outputs": [
        {
          "output_type": "stream",
          "text": [
            "         Date      x      y  ...  Estimated_y  y - Estimated_y  (y - Estimated_y)^2\n",
            "0    4-Feb-21  56.23  56.85  ...    57.195207        -0.345207             0.119168\n",
            "1    5-Feb-21  56.85  57.97  ...    57.729616         0.240384             0.057784\n",
            "2    8-Feb-21  57.97  58.36  ...    58.695001        -0.335001             0.112226\n",
            "3    9-Feb-21  58.36  58.68  ...    59.031161        -0.351161             0.123314\n",
            "4   10-Feb-21  58.68  58.24  ...    59.306986        -1.066986             1.138458\n",
            "5   11-Feb-21  58.24  59.47  ...    58.927727         0.542273             0.294060\n",
            "6   12-Feb-21  59.47  60.37  ...    59.987927         0.382073             0.145980\n",
            "7   14-Feb-21  60.37  60.09  ...    60.763682        -0.673682             0.453847\n",
            "8   15-Feb-21  60.09  60.05  ...    60.522336        -0.472336             0.223101\n",
            "9   16-Feb-21  60.05  61.14  ...    60.487858         0.652142             0.425289\n",
            "10  17-Feb-21  61.14  60.52  ...    61.427384        -0.907384             0.823345\n",
            "11  18-Feb-21  60.52  59.24  ...    60.892974        -1.652974             2.732325\n",
            "12  19-Feb-21  59.24  61.49  ...    59.789678         1.700322             2.891095\n",
            "13  22-Feb-21  61.49  61.67  ...    61.729066        -0.059066             0.003489\n",
            "14  23-Feb-21  61.67  63.22  ...    61.884218         1.335782             1.784315\n",
            "15  24-Feb-21  63.22  63.53  ...    63.220241         0.309759             0.095951\n",
            "16  25-Feb-21  63.53  61.50  ...    63.487445        -1.987445             3.949939\n",
            "17  26-Feb-21  61.50  60.64  ...    61.737686        -1.097686             1.204914\n",
            "18   1-Mar-21  60.64  59.75  ...    60.996409        -1.246409             1.553534\n",
            "19   2-Mar-21  59.75  61.28  ...    60.229273         1.050727             1.104028\n",
            "20   3-Mar-21  61.28  63.83  ...    61.548057         2.281943             5.207265\n",
            "21   4-Mar-21  63.83  66.09  ...    63.746031         2.343969             5.494193\n",
            "22   5-Mar-21  66.09  65.05  ...    65.694039        -0.644039             0.414786\n",
            "\n",
            "[23 rows x 10 columns]\n"
          ],
          "name": "stdout"
        }
      ]
    },
    {
      "cell_type": "code",
      "metadata": {
        "colab": {
          "base_uri": "https://localhost:8080/"
        },
        "id": "-33T2G2dhOwb",
        "outputId": "0c1f4909-f135-4cef-d001-706838e1ce63"
      },
      "source": [
        "import math\r\n",
        "\r\n",
        "mse=df['(y - Estimated_y)^2'].mean()\r\n",
        "rmse=math.sqrt(mse)\r\n",
        "print(\"MSE : \",mse,\"\\nRMSE :\",rmse)\r\n"
      ],
      "execution_count": 13,
      "outputs": [
        {
          "output_type": "stream",
          "text": [
            "MSE :  1.3196698614810662 \n",
            "RMSE : 1.1487688459742744\n"
          ],
          "name": "stdout"
        }
      ]
    },
    {
      "cell_type": "code",
      "metadata": {
        "colab": {
          "base_uri": "https://localhost:8080/",
          "height": 281
        },
        "id": "vNZZCsBWhXk_",
        "outputId": "b3918e20-55ad-4141-bd82-2ae376001d49"
      },
      "source": [
        "import matplotlib.pyplot as plt\r\n",
        "\r\n",
        "plt.scatter(df['x'],df['y'],color = \"red\")\r\n",
        "plt.title(\"Visualising X, Actual Y\")\r\n",
        "plt.show()"
      ],
      "execution_count": 20,
      "outputs": [
        {
          "output_type": "display_data",
          "data": {
            "image/png": "[encoded data removed]",
            "text/plain": [
              "<Figure size 432x288 with 1 Axes>"
            ]
          },
          "metadata": {
            "tags": [],
            "needs_background": "light"
          }
        }
      ]
    },
    {
      "cell_type": "code",
      "metadata": {
        "colab": {
          "base_uri": "https://localhost:8080/",
          "height": 363
        },
        "id": "g3qHtUk3heD5",
        "outputId": "ea0c3397-3b34-4ac4-b962-3e3d5556cb70"
      },
      "source": [
        "plt.scatter(df['x'],df['y'],color = \"red\")\r\n",
        "plt.plot(df['x'],df['Estimated_y'])\r\n",
        "plt.title(\"Equation of Line\")\r\n",
        "plt.xlabel('x')\r\n",
        "plt.ylabel('Estimated_y')\r\n",
        "plt.show()\r\n",
        "print(\"\\nLinear Regression Model Equation: y = \",slope,\"x + \",intercept)\r\n",
        "print(\"MSE : \",mse,\"\\nRMSE :\",rmse)"
      ],
      "execution_count": 19,
      "outputs": [
        {
          "output_type": "display_data",
          "data": {
            "image/png": "[encoded data removed]",
            "text/plain": [
              "<Figure size 432x288 with 1 Axes>"
            ]
          },
          "metadata": {
            "tags": [],
            "needs_background": "light"
          }
        },
        {
          "output_type": "stream",
          "text": [
            "\n",
            "Linear Regression Model Equation: y =  0.861950460362125 x +  8.72773263043348\n",
            "MSE :  1.3196698614810662 \n",
            "RMSE : 1.1487688459742744\n"
          ],
          "name": "stdout"
        }
      ]
    }
  ]
}