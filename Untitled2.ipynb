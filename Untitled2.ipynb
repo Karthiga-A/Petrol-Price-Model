{
  "nbformat": 4,
  "nbformat_minor": 0,
  "metadata": {
    "colab": {
      "name": "Untitled2.ipynb",
      "provenance": [],
      "authorship_tag": "ABX9TyO6ZbsduIdk6EORRkkhqtru",
      "include_colab_link": true
    },
    "kernelspec": {
      "name": "python3",
      "display_name": "Python 3"
    }
  },
  "cells": [
    {
      "cell_type": "markdown",
      "metadata": {
        "id": "view-in-github",
        "colab_type": "text"
      },
      "source": [
        "<a href=\"https://colab.research.google.com/github/Karthiga-A/Petrol-Price-Model/blob/main/Untitled2.ipynb\" target=\"_parent\"><img src=\"https://colab.research.google.com/assets/colab-badge.svg\" alt=\"Open In Colab\"/></a>"
      ]
    },
    {
      "cell_type": "code",
      "metadata": {
        "colab": {
          "base_uri": "https://localhost:8080/"
        },
        "id": "_VyxyG3S10oz",
        "outputId": "372ee71f-77fd-4f6f-af9c-a03bb6103031"
      },
      "source": [
        "from google.colab import drive\r\n",
        "drive.mount('/content/drive') "
      ],
      "execution_count": 27,
      "outputs": [
        {
          "output_type": "stream",
          "text": [
            "Drive already mounted at /content/drive; to attempt to forcibly remount, call drive.mount(\"/content/drive\", force_remount=True).\n"
          ],
          "name": "stdout"
        }
      ]
    },
    {
      "cell_type": "code",
      "metadata": {
        "colab": {
          "base_uri": "https://localhost:8080/"
        },
        "id": "x71QaFtj2ZOv",
        "outputId": "784a9516-9f23-4e27-f3d3-041152fa6456"
      },
      "source": [
        "import pandas as pd\r\n",
        "\r\n",
        "path =\"/content/drive/MyDrive/Colab Notebooks/petrol.csv\"\r\n",
        "df = pd.read_csv(path)\r\n",
        "\r\n",
        "df.describe"
      ],
      "execution_count": 29,
      "outputs": [
        {
          "output_type": "execute_result",
          "data": {
            "text/plain": [
              "<bound method NDFrame.describe of          Date      x      y\n",
              "0    4-Feb-21  56.23  56.85\n",
              "1    5-Feb-21  56.85  57.97\n",
              "2    8-Feb-21  57.97  58.36\n",
              "3    9-Feb-21  58.36  58.68\n",
              "4   10-Feb-21  58.68  58.24\n",
              "5   11-Feb-21  58.24  59.47\n",
              "6   12-Feb-21  59.47  60.37\n",
              "7   14-Feb-21  60.37  60.09\n",
              "8   15-Feb-21  60.09  60.05\n",
              "9   16-Feb-21  60.05  61.14\n",
              "10  17-Feb-21  61.14  60.52\n",
              "11  18-Feb-21  60.52  59.24\n",
              "12  19-Feb-21  59.24  61.49\n",
              "13  22-Feb-21  61.49  61.67\n",
              "14  23-Feb-21  61.67  63.22\n",
              "15  24-Feb-21  63.22  63.53\n",
              "16  25-Feb-21  63.53  61.50\n",
              "17  26-Feb-21  61.50  60.64\n",
              "18   1-Mar-21  60.64  59.75\n",
              "19   2-Mar-21  59.75  61.28\n",
              "20   3-Mar-21  61.28  63.83\n",
              "21   4-Mar-21  63.83  66.09\n",
              "22   5-Mar-21  66.09  65.05>"
            ]
          },
          "metadata": {
            "tags": []
          },
          "execution_count": 29
        }
      ]
    },
    {
      "cell_type": "code",
      "metadata": {
        "colab": {
          "base_uri": "https://localhost:8080/",
          "height": 762
        },
        "id": "aDwgVhqSB0YH",
        "outputId": "8570f37c-b7a3-4bcd-d8cc-2d5e5b03511c"
      },
      "source": [
        "df\r\n"
      ],
      "execution_count": 30,
      "outputs": [
        {
          "output_type": "execute_result",
          "data": {
            "text/html": [
              "<div>\n",
              "<style scoped>\n",
              "    .dataframe tbody tr th:only-of-type {\n",
              "        vertical-align: middle;\n",
              "    }\n",
              "\n",
              "    .dataframe tbody tr th {\n",
              "        vertical-align: top;\n",
              "    }\n",
              "\n",
              "    .dataframe thead th {\n",
              "        text-align: right;\n",
              "    }\n",
              "</style>\n",
              "<table border=\"1\" class=\"dataframe\">\n",
              "  <thead>\n",
              "    <tr style=\"text-align: right;\">\n",
              "      <th></th>\n",
              "      <th>Date</th>\n",
              "      <th>x</th>\n",
              "      <th>y</th>\n",
              "    </tr>\n",
              "  </thead>\n",
              "  <tbody>\n",
              "    <tr>\n",
              "      <th>0</th>\n",
              "      <td>4-Feb-21</td>\n",
              "      <td>56.23</td>\n",
              "      <td>56.85</td>\n",
              "    </tr>\n",
              "    <tr>\n",
              "      <th>1</th>\n",
              "      <td>5-Feb-21</td>\n",
              "      <td>56.85</td>\n",
              "      <td>57.97</td>\n",
              "    </tr>\n",
              "    <tr>\n",
              "      <th>2</th>\n",
              "      <td>8-Feb-21</td>\n",
              "      <td>57.97</td>\n",
              "      <td>58.36</td>\n",
              "    </tr>\n",
              "    <tr>\n",
              "      <th>3</th>\n",
              "      <td>9-Feb-21</td>\n",
              "      <td>58.36</td>\n",
              "      <td>58.68</td>\n",
              "    </tr>\n",
              "    <tr>\n",
              "      <th>4</th>\n",
              "      <td>10-Feb-21</td>\n",
              "      <td>58.68</td>\n",
              "      <td>58.24</td>\n",
              "    </tr>\n",
              "    <tr>\n",
              "      <th>5</th>\n",
              "      <td>11-Feb-21</td>\n",
              "      <td>58.24</td>\n",
              "      <td>59.47</td>\n",
              "    </tr>\n",
              "    <tr>\n",
              "      <th>6</th>\n",
              "      <td>12-Feb-21</td>\n",
              "      <td>59.47</td>\n",
              "      <td>60.37</td>\n",
              "    </tr>\n",
              "    <tr>\n",
              "      <th>7</th>\n",
              "      <td>14-Feb-21</td>\n",
              "      <td>60.37</td>\n",
              "      <td>60.09</td>\n",
              "    </tr>\n",
              "    <tr>\n",
              "      <th>8</th>\n",
              "      <td>15-Feb-21</td>\n",
              "      <td>60.09</td>\n",
              "      <td>60.05</td>\n",
              "    </tr>\n",
              "    <tr>\n",
              "      <th>9</th>\n",
              "      <td>16-Feb-21</td>\n",
              "      <td>60.05</td>\n",
              "      <td>61.14</td>\n",
              "    </tr>\n",
              "    <tr>\n",
              "      <th>10</th>\n",
              "      <td>17-Feb-21</td>\n",
              "      <td>61.14</td>\n",
              "      <td>60.52</td>\n",
              "    </tr>\n",
              "    <tr>\n",
              "      <th>11</th>\n",
              "      <td>18-Feb-21</td>\n",
              "      <td>60.52</td>\n",
              "      <td>59.24</td>\n",
              "    </tr>\n",
              "    <tr>\n",
              "      <th>12</th>\n",
              "      <td>19-Feb-21</td>\n",
              "      <td>59.24</td>\n",
              "      <td>61.49</td>\n",
              "    </tr>\n",
              "    <tr>\n",
              "      <th>13</th>\n",
              "      <td>22-Feb-21</td>\n",
              "      <td>61.49</td>\n",
              "      <td>61.67</td>\n",
              "    </tr>\n",
              "    <tr>\n",
              "      <th>14</th>\n",
              "      <td>23-Feb-21</td>\n",
              "      <td>61.67</td>\n",
              "      <td>63.22</td>\n",
              "    </tr>\n",
              "    <tr>\n",
              "      <th>15</th>\n",
              "      <td>24-Feb-21</td>\n",
              "      <td>63.22</td>\n",
              "      <td>63.53</td>\n",
              "    </tr>\n",
              "    <tr>\n",
              "      <th>16</th>\n",
              "      <td>25-Feb-21</td>\n",
              "      <td>63.53</td>\n",
              "      <td>61.50</td>\n",
              "    </tr>\n",
              "    <tr>\n",
              "      <th>17</th>\n",
              "      <td>26-Feb-21</td>\n",
              "      <td>61.50</td>\n",
              "      <td>60.64</td>\n",
              "    </tr>\n",
              "    <tr>\n",
              "      <th>18</th>\n",
              "      <td>1-Mar-21</td>\n",
              "      <td>60.64</td>\n",
              "      <td>59.75</td>\n",
              "    </tr>\n",
              "    <tr>\n",
              "      <th>19</th>\n",
              "      <td>2-Mar-21</td>\n",
              "      <td>59.75</td>\n",
              "      <td>61.28</td>\n",
              "    </tr>\n",
              "    <tr>\n",
              "      <th>20</th>\n",
              "      <td>3-Mar-21</td>\n",
              "      <td>61.28</td>\n",
              "      <td>63.83</td>\n",
              "    </tr>\n",
              "    <tr>\n",
              "      <th>21</th>\n",
              "      <td>4-Mar-21</td>\n",
              "      <td>63.83</td>\n",
              "      <td>66.09</td>\n",
              "    </tr>\n",
              "    <tr>\n",
              "      <th>22</th>\n",
              "      <td>5-Mar-21</td>\n",
              "      <td>66.09</td>\n",
              "      <td>65.05</td>\n",
              "    </tr>\n",
              "  </tbody>\n",
              "</table>\n",
              "</div>"
            ],
            "text/plain": [
              "         Date      x      y\n",
              "0    4-Feb-21  56.23  56.85\n",
              "1    5-Feb-21  56.85  57.97\n",
              "2    8-Feb-21  57.97  58.36\n",
              "3    9-Feb-21  58.36  58.68\n",
              "4   10-Feb-21  58.68  58.24\n",
              "5   11-Feb-21  58.24  59.47\n",
              "6   12-Feb-21  59.47  60.37\n",
              "7   14-Feb-21  60.37  60.09\n",
              "8   15-Feb-21  60.09  60.05\n",
              "9   16-Feb-21  60.05  61.14\n",
              "10  17-Feb-21  61.14  60.52\n",
              "11  18-Feb-21  60.52  59.24\n",
              "12  19-Feb-21  59.24  61.49\n",
              "13  22-Feb-21  61.49  61.67\n",
              "14  23-Feb-21  61.67  63.22\n",
              "15  24-Feb-21  63.22  63.53\n",
              "16  25-Feb-21  63.53  61.50\n",
              "17  26-Feb-21  61.50  60.64\n",
              "18   1-Mar-21  60.64  59.75\n",
              "19   2-Mar-21  59.75  61.28\n",
              "20   3-Mar-21  61.28  63.83\n",
              "21   4-Mar-21  63.83  66.09\n",
              "22   5-Mar-21  66.09  65.05"
            ]
          },
          "metadata": {
            "tags": []
          },
          "execution_count": 30
        }
      ]
    },
    {
      "cell_type": "code",
      "metadata": {
        "id": "-eXCb4SNB15b"
      },
      "source": [
        "x=df.iloc[:, 1:2].values\r\n",
        "y=df.iloc[:, 2:3].values"
      ],
      "execution_count": 32,
      "outputs": []
    },
    {
      "cell_type": "code",
      "metadata": {
        "colab": {
          "base_uri": "https://localhost:8080/"
        },
        "id": "ju-ANmq5B_0G",
        "outputId": "1f30633f-0fd3-470f-f050-71f7c8da4450"
      },
      "source": [
        "x"
      ],
      "execution_count": 33,
      "outputs": [
        {
          "output_type": "execute_result",
          "data": {
            "text/plain": [
              "array([[56.23],\n",
              "       [56.85],\n",
              "       [57.97],\n",
              "       [58.36],\n",
              "       [58.68],\n",
              "       [58.24],\n",
              "       [59.47],\n",
              "       [60.37],\n",
              "       [60.09],\n",
              "       [60.05],\n",
              "       [61.14],\n",
              "       [60.52],\n",
              "       [59.24],\n",
              "       [61.49],\n",
              "       [61.67],\n",
              "       [63.22],\n",
              "       [63.53],\n",
              "       [61.5 ],\n",
              "       [60.64],\n",
              "       [59.75],\n",
              "       [61.28],\n",
              "       [63.83],\n",
              "       [66.09]])"
            ]
          },
          "metadata": {
            "tags": []
          },
          "execution_count": 33
        }
      ]
    },
    {
      "cell_type": "code",
      "metadata": {
        "colab": {
          "base_uri": "https://localhost:8080/"
        },
        "id": "lWYEhuzwCy-B",
        "outputId": "24382e55-4260-4ccb-99fe-5e44a3265849"
      },
      "source": [
        "y"
      ],
      "execution_count": 34,
      "outputs": [
        {
          "output_type": "execute_result",
          "data": {
            "text/plain": [
              "array([[56.85],\n",
              "       [57.97],\n",
              "       [58.36],\n",
              "       [58.68],\n",
              "       [58.24],\n",
              "       [59.47],\n",
              "       [60.37],\n",
              "       [60.09],\n",
              "       [60.05],\n",
              "       [61.14],\n",
              "       [60.52],\n",
              "       [59.24],\n",
              "       [61.49],\n",
              "       [61.67],\n",
              "       [63.22],\n",
              "       [63.53],\n",
              "       [61.5 ],\n",
              "       [60.64],\n",
              "       [59.75],\n",
              "       [61.28],\n",
              "       [63.83],\n",
              "       [66.09],\n",
              "       [65.05]])"
            ]
          },
          "metadata": {
            "tags": []
          },
          "execution_count": 34
        }
      ]
    },
    {
      "cell_type": "code",
      "metadata": {
        "colab": {
          "base_uri": "https://localhost:8080/"
        },
        "id": "RB7nFIrpDBk4",
        "outputId": "4ae7ead3-7baf-42a1-95f2-2c7d65d9e248"
      },
      "source": [
        "from sklearn.linear_model import LinearRegression\r\n",
        "regressor = LinearRegression()\r\n",
        "regressor.fit(x, y)"
      ],
      "execution_count": 35,
      "outputs": [
        {
          "output_type": "execute_result",
          "data": {
            "text/plain": [
              "LinearRegression(copy_X=True, fit_intercept=True, n_jobs=None, normalize=False)"
            ]
          },
          "metadata": {
            "tags": []
          },
          "execution_count": 35
        }
      ]
    },
    {
      "cell_type": "code",
      "metadata": {
        "colab": {
          "base_uri": "https://localhost:8080/"
        },
        "id": "UU3Na6sUDT6K",
        "outputId": "8bccfbbc-e7b4-49d2-a141-ce96138225fb"
      },
      "source": [
        "regressor.coef_"
      ],
      "execution_count": 36,
      "outputs": [
        {
          "output_type": "execute_result",
          "data": {
            "text/plain": [
              "array([[0.86195046]])"
            ]
          },
          "metadata": {
            "tags": []
          },
          "execution_count": 36
        }
      ]
    },
    {
      "cell_type": "code",
      "metadata": {
        "colab": {
          "base_uri": "https://localhost:8080/"
        },
        "id": "SIkSknMwDYaB",
        "outputId": "6dd27924-f74e-436e-f0d5-b7c78d6812ff"
      },
      "source": [
        "regressor.intercept_"
      ],
      "execution_count": 37,
      "outputs": [
        {
          "output_type": "execute_result",
          "data": {
            "text/plain": [
              "array([8.72773263])"
            ]
          },
          "metadata": {
            "tags": []
          },
          "execution_count": 37
        }
      ]
    },
    {
      "cell_type": "code",
      "metadata": {
        "colab": {
          "base_uri": "https://localhost:8080/",
          "height": 295
        },
        "id": "sgHa6SRMDdS4",
        "outputId": "71d06b5e-90db-42ee-9ae0-9f603532098e"
      },
      "source": [
        "import matplotlib.pyplot as plt\r\n",
        "plt.scatter(x, y, color = 'red')\r\n",
        "plt.plot(x, regressor.predict(x), color = 'blue')\r\n",
        "plt.title('Petrol Price')\r\n",
        "plt.xlabel('x')\r\n",
        "plt.ylabel('y')\r\n",
        "plt.show()"
      ],
      "execution_count": 38,
      "outputs": [
        {
          "output_type": "display_data",
          "data": {
            "image/png": "[encoded data removed]",
            "text/plain": [
              "<Figure size 432x288 with 1 Axes>"
            ]
          },
          "metadata": {
            "tags": [],
            "needs_background": "light"
          }
        }
      ]
    },
    {
      "cell_type": "code",
      "metadata": {
        "colab": {
          "base_uri": "https://localhost:8080/"
        },
        "id": "JGJ6F8vJDov9",
        "outputId": "53f4f838-3a47-4ee4-cd52-ae0684a41d2c"
      },
      "source": [
        "regressor.predict([[60]])"
      ],
      "execution_count": 39,
      "outputs": [
        {
          "output_type": "execute_result",
          "data": {
            "text/plain": [
              "array([[60.44476025]])"
            ]
          },
          "metadata": {
            "tags": []
          },
          "execution_count": 39
        }
      ]
    }
  ]
}